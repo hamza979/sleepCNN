{
 "cells": [
  {
   "cell_type": "code",
   "execution_count": 3,
   "metadata": {},
   "outputs": [],
   "source": [
    "import torch\n",
    "Epochs=torch.load('SleepEDF/Epochs.pt') \n",
    "Labels=torch.load('SleepEDF/Labels.pt') "
   ]
  },
  {
   "cell_type": "code",
   "execution_count": 4,
   "metadata": {},
   "outputs": [
    {
     "data": {
      "text/plain": [
       "torch.Size([147632, 1, 3000])"
      ]
     },
     "execution_count": 4,
     "metadata": {},
     "output_type": "execute_result"
    }
   ],
   "source": [
    "Epochs.shape"
   ]
  },
  {
   "cell_type": "code",
   "execution_count": 5,
   "metadata": {},
   "outputs": [
    {
     "data": {
      "text/plain": [
       "torch.Size([147632])"
      ]
     },
     "execution_count": 5,
     "metadata": {},
     "output_type": "execute_result"
    }
   ],
   "source": [
    "Labels.shape"
   ]
  },
  {
   "cell_type": "code",
   "execution_count": 6,
   "metadata": {},
   "outputs": [],
   "source": [
    "import torch.utils.data as data_utils\n",
    "\n",
    "train = data_utils.TensorDataset(Epochs, Labels.long())\n",
    "train_loader = data_utils.DataLoader(train, batch_size=747, shuffle=True)"
   ]
  },
  {
   "cell_type": "code",
   "execution_count": 7,
   "metadata": {},
   "outputs": [],
   "source": [
    "import torch.nn as nn\n",
    "import torch.nn.functional as F\n",
    "\n",
    "\n",
    "class Net(nn.Module):\n",
    "    def __init__(self):\n",
    "        super(Net, self).__init__()\n",
    "        self.conv1 = nn.Conv1d(1, 6, 5)\n",
    "        self.pool = nn.MaxPool1d(2)\n",
    "        self.conv2 = nn.Conv1d(6, 16, 5)\n",
    "        self.fc1 = nn.Linear(16 * 747, 120)\n",
    "        self.fc2 = nn.Linear(120, 84)\n",
    "        self.fc3 = nn.Linear(84, 5)\n",
    "\n",
    "    def forward(self, x):\n",
    "        x = self.pool(F.relu(self.conv1(x)))\n",
    "        x = self.pool(F.relu(self.conv2(x)))\n",
    "        x = x.view(-1, 16 * 747)\n",
    "        x = F.relu(self.fc1(x))\n",
    "        x = F.relu(self.fc2(x))\n",
    "        x = self.fc3(x)\n",
    "        return x\n",
    "net = Net().cuda()\n",
    "\n",
    "import torch.optim as optim\n",
    "\n",
    "criterion = nn.CrossEntropyLoss()\n",
    "optimizer = optim.SGD(net.parameters(), lr=0.001, momentum=0.8)"
   ]
  },
  {
   "cell_type": "code",
   "execution_count": null,
   "metadata": {},
   "outputs": [
    {
     "name": "stdout",
     "output_type": "stream",
     "text": [
      "[Epoch 1] loss: 1.114\n",
      "[Epoch 2] loss: 1.008\n",
      "[Epoch 3] loss: 0.954\n",
      "[Epoch 4] loss: 0.914\n",
      "[Epoch 5] loss: 0.879\n",
      "[Epoch 6] loss: 0.854\n",
      "[Epoch 7] loss: 0.826\n",
      "[Epoch 8] loss: 0.803\n",
      "[Epoch 9] loss: 0.791\n",
      "[Epoch 10] loss: 0.777\n",
      "[Epoch 11] loss: 0.760\n",
      "[Epoch 12] loss: 0.743\n",
      "[Epoch 13] loss: 0.731\n",
      "[Epoch 14] loss: 0.718\n",
      "[Epoch 15] loss: 0.707\n",
      "[Epoch 16] loss: 0.695\n",
      "[Epoch 17] loss: 0.685\n",
      "[Epoch 18] loss: 0.680\n",
      "[Epoch 19] loss: 0.663\n",
      "[Epoch 20] loss: 0.649\n",
      "[Epoch 21] loss: 0.641\n",
      "[Epoch 22] loss: 0.634\n",
      "[Epoch 23] loss: 0.617\n",
      "[Epoch 24] loss: 0.609\n",
      "[Epoch 25] loss: 0.594\n",
      "[Epoch 26] loss: 0.587\n",
      "[Epoch 27] loss: 0.575\n",
      "[Epoch 28] loss: 0.571\n",
      "[Epoch 29] loss: 0.555\n",
      "[Epoch 30] loss: 0.535\n",
      "[Epoch 31] loss: 0.535\n",
      "[Epoch 32] loss: 0.517\n",
      "[Epoch 33] loss: 0.513\n",
      "[Epoch 34] loss: 0.492\n",
      "[Epoch 35] loss: 0.484\n",
      "[Epoch 36] loss: 0.462\n",
      "[Epoch 37] loss: 0.457\n",
      "[Epoch 38] loss: 0.434\n",
      "[Epoch 39] loss: 0.435\n",
      "[Epoch 40] loss: 0.412\n",
      "[Epoch 41] loss: 0.393\n",
      "[Epoch 42] loss: 0.391\n",
      "[Epoch 43] loss: 0.364\n",
      "[Epoch 44] loss: 0.360\n",
      "[Epoch 45] loss: 0.366\n",
      "[Epoch 46] loss: 0.316\n",
      "[Epoch 47] loss: 0.291\n",
      "[Epoch 48] loss: 0.323\n",
      "[Epoch 49] loss: 0.324\n",
      "[Epoch 50] loss: 0.261\n",
      "[Epoch 51] loss: 0.237\n",
      "[Epoch 52] loss: 0.289\n",
      "[Epoch 53] loss: 0.242\n",
      "[Epoch 54] loss: 0.204\n",
      "[Epoch 55] loss: 0.176\n",
      "[Epoch 56] loss: 0.454\n",
      "[Epoch 57] loss: 0.239\n",
      "[Epoch 58] loss: 0.210\n",
      "[Epoch 59] loss: 0.197\n"
     ]
    }
   ],
   "source": [
    "for epoch in range(64):  # loop over the dataset multiple times\n",
    "\n",
    "    running_loss = 0.0\n",
    "    for i, data in enumerate(train_loader, 0):\n",
    "        # get the inputs; data is a list of [inputs, labels]\n",
    "        inputs, labels = data[0].cuda(),data[1].cuda()\n",
    "\n",
    "        # zero the parameter gradients\n",
    "        optimizer.zero_grad()\n",
    "\n",
    "        # forward + backward + optimize\n",
    "        outputs = net(inputs)\n",
    "        loss = criterion(outputs, labels)\n",
    "        loss.backward()\n",
    "        optimizer.step()\n",
    "\n",
    "        # print statistics\n",
    "        running_loss += loss.item()\n",
    "        if i % 190 == 189:\n",
    "            print('[Epoch %d] loss: %.3f' %\n",
    "                  (epoch + 1, running_loss / 190))\n",
    "            running_loss = 0.0\n",
    "\n",
    "print('Finished Training')"
   ]
  },
  {
   "cell_type": "code",
   "execution_count": null,
   "metadata": {},
   "outputs": [],
   "source": []
  }
 ],
 "metadata": {
  "kernelspec": {
   "display_name": "Python 3",
   "language": "python",
   "name": "python3"
  },
  "language_info": {
   "codemirror_mode": {
    "name": "ipython",
    "version": 3
   },
   "file_extension": ".py",
   "mimetype": "text/x-python",
   "name": "python",
   "nbconvert_exporter": "python",
   "pygments_lexer": "ipython3",
   "version": "3.7.6"
  }
 },
 "nbformat": 4,
 "nbformat_minor": 4
}
