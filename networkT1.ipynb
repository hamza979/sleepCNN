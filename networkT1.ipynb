{
 "cells": [
  {
   "cell_type": "code",
   "execution_count": null,
   "metadata": {},
   "outputs": [],
   "source": [
    "import numpy as np\n",
    "import pandas as pd\n",
    "import datetime\n",
    "import os\n",
    "os.chdir(\"SleepEDF\")\n",
    "Labels=np.load(\"Labels.npy\")\n",
    "Epochs=np.load(\"Epochs.npy\")"
   ]
  },
  {
   "cell_type": "code",
   "execution_count": null,
   "metadata": {},
   "outputs": [],
   "source": [
    "Labels=Labels.astype(int)"
   ]
  },
  {
   "cell_type": "code",
   "execution_count": null,
   "metadata": {},
   "outputs": [],
   "source": [
    "import torch.nn as nn\n",
    "import torch.nn.functional as F\n",
    "import torch\n",
    "cuda = torch.device('cuda')\n",
    "Labels=torch.from_numpy(Labels)\n",
    "Epochs=torch.from_numpy(Epochs)\n",
    "Epochs=Epochs.unsqueeze(1)"
   ]
  },
  {
   "cell_type": "code",
   "execution_count": null,
   "metadata": {},
   "outputs": [],
   "source": [
    "model=nn.Sequential(\n",
    "    nn.Conv1d(1,50,70),\n",
    "    nn.ReLU(),\n",
    "    nn.MaxPool1d(3),\n",
    "    nn.Conv1d(50,50,70),\n",
    "    nn.ReLU(),\n",
    "    nn.MaxPool1d(4),\n",
    "    nn.Conv1d(50,10,11),\n",
    "    nn.ReLU(),\n",
    "    nn.MaxPool1d(2),\n",
    "    nn.Linear(108,1),\n",
    ")"
   ]
  },
  {
   "cell_type": "code",
   "execution_count": null,
   "metadata": {},
   "outputs": [],
   "source": [
    "model=model.cuda()"
   ]
  },
  {
   "cell_type": "code",
   "execution_count": null,
   "metadata": {},
   "outputs": [],
   "source": [
    "len(Epochs[0])"
   ]
  },
  {
   "cell_type": "code",
   "execution_count": null,
   "metadata": {},
   "outputs": [],
   "source": [
    "FoldSize=len(Epochs)//5"
   ]
  },
  {
   "cell_type": "code",
   "execution_count": null,
   "metadata": {},
   "outputs": [],
   "source": [
    "Folds=[]"
   ]
  },
  {
   "cell_type": "code",
   "execution_count": null,
   "metadata": {},
   "outputs": [],
   "source": [
    "for x in range(5):\n",
    "    Folds.append(torch.arange(FoldSize*x,FoldSize*(x+1)))"
   ]
  },
  {
   "cell_type": "code",
   "execution_count": null,
   "metadata": {},
   "outputs": [],
   "source": [
    "Folds"
   ]
  },
  {
   "cell_type": "code",
   "execution_count": null,
   "metadata": {},
   "outputs": [],
   "source": [
    "train_Epochs=Epochs[torch.cat((Folds[0],Folds[1],Folds[2],Folds[3]),0)]"
   ]
  },
  {
   "cell_type": "code",
   "execution_count": null,
   "metadata": {},
   "outputs": [],
   "source": [
    "train_Labels=Labels[torch.cat((Folds[0],Folds[1],Folds[2],Folds[3]),0)].cuda()"
   ]
  },
  {
   "cell_type": "code",
   "execution_count": null,
   "metadata": {},
   "outputs": [],
   "source": [
    "test_Epochs=Epochs[Folds[4]]\n",
    "test_Labels=Labels[Folds[4]]"
   ]
  },
  {
   "cell_type": "code",
   "execution_count": null,
   "metadata": {},
   "outputs": [],
   "source": [
    "Epochs.shape"
   ]
  },
  {
   "cell_type": "code",
   "execution_count": null,
   "metadata": {},
   "outputs": [],
   "source": [
    "np.shape(Labels)"
   ]
  },
  {
   "cell_type": "code",
   "execution_count": null,
   "metadata": {},
   "outputs": [],
   "source": [
    "def training_loop(model):\n",
    "    optimizer = torch.optim.Adam(model.parameters(), lr = 0.0001)\n",
    "    n_batches=84\n",
    "    batchsize=int(len(train_Epochs)/n_batches)\n",
    "    for ep in range(1,17):\n",
    "        loss_v = 0.0\n",
    "        for i in range(n_batches):\n",
    "            torch.cuda.empty_cache()\n",
    "            epoch_Batch=train_Epochs[i*batchsize:(i+1)*batchsize,]\n",
    "            label_Batch=train_Labels[i*batchsize:(i+1)*batchsize,]\n",
    "            label_Batch=label_Batch.long()\n",
    "            label_Batch=label_Batch.unsqueeze(1)\n",
    "            epoch_Batch=epoch_Batch.float()\n",
    "            train_t = model(epoch_Batch.cuda())\n",
    "            loss_train = nn.CrossEntropyLoss()\n",
    "            outTrain=loss_train(train_t,label_Batch)\n",
    "            optimizer.zero_grad()\n",
    "            outTrain.backward()\n",
    "            optimizer.step()\n",
    "            loss_v+=outTrain.item()\n",
    "        print('{} Epoch {}, Training loss {}'.format(\n",
    "        datetime.datetime.now(), ep,\n",
    "        loss_v/n_batches))   "
   ]
  },
  {
   "cell_type": "code",
   "execution_count": null,
   "metadata": {},
   "outputs": [],
   "source": [
    "training_loop(model)"
   ]
  },
  {
   "cell_type": "code",
   "execution_count": null,
   "metadata": {},
   "outputs": [],
   "source": []
  }
 ],
 "metadata": {
  "kernelspec": {
   "display_name": "Python 3",
   "language": "python",
   "name": "python3"
  },
  "language_info": {
   "codemirror_mode": {
    "name": "ipython",
    "version": 3
   },
   "file_extension": ".py",
   "mimetype": "text/x-python",
   "name": "python",
   "nbconvert_exporter": "python",
   "pygments_lexer": "ipython3",
   "version": "3.7.6"
  }
 },
 "nbformat": 4,
 "nbformat_minor": 4
}
