{
 "cells": [
  {
   "cell_type": "code",
   "execution_count": 1,
   "metadata": {},
   "outputs": [],
   "source": [
    "import os\n",
    "import datetime as dt"
   ]
  },
  {
   "cell_type": "code",
   "execution_count": 2,
   "metadata": {},
   "outputs": [],
   "source": [
    "os.chdir(\"info\")"
   ]
  },
  {
   "cell_type": "code",
   "execution_count": 3,
   "metadata": {},
   "outputs": [],
   "source": [
    "recId=os.listdir()"
   ]
  },
  {
   "cell_type": "code",
   "execution_count": 4,
   "metadata": {},
   "outputs": [],
   "source": [
    "lightsoff=[]\n",
    "lightson=[]\n",
    "recstart=[]\n",
    "recstop=[]\n",
    "for x in recId:\n",
    "    os.chdir(x)\n",
    "    os.chdir(\"info\")\n",
    "    f= open(\"lights_off_time.txt\", \"r\")\n",
    "    dd=dt.datetime.strptime(\"02/01/1900:\"+f.readline().strip(),\"%d/%m/%Y:%H:%M:%S\")\n",
    "    f.close()\n",
    "    if dd.hour>12:\n",
    "        dd=dd.replace(day=1)\n",
    "    lightsoff.append(dd)\n",
    "    f= open(\"lights_on_time.txt\", \"r\")\n",
    "    lightson.append(dt.datetime.strptime(\"02/01/1900:\"+f.readline().strip(),\"%d/%m/%Y:%H:%M:%S.%f\"))\n",
    "    f.close()\n",
    "    f= open(\"rec_start_time.txt\", \"r\")\n",
    "    recstart.append(dt.datetime.strptime(\"01/01/1900:\"+f.readline().strip(),\"%d/%m/%Y:%H:%M:%S.%f\"))\n",
    "    f.close()\n",
    "    f= open(\"rec_stop_time.txt\", \"r\")\n",
    "    recstop.append(dt.datetime.strptime(\"02/01/1900:\"+f.readline().strip(),\"%d/%m/%Y:%H:%M:%S\"))\n",
    "    f.close()\n",
    "    os.chdir(\"../..\")\n",
    "os.chdir(\"..\")"
   ]
  },
  {
   "cell_type": "code",
   "execution_count": 5,
   "metadata": {},
   "outputs": [],
   "source": [
    "import pyedflib"
   ]
  },
  {
   "cell_type": "code",
   "execution_count": 6,
   "metadata": {},
   "outputs": [],
   "source": [
    "os.chdir(\"SleepEDF\")"
   ]
  },
  {
   "cell_type": "code",
   "execution_count": 7,
   "metadata": {},
   "outputs": [],
   "source": [
    "import numpy as np\n",
    "import glob\n",
    "Epochs = []\n",
    "Labels = []\n",
    "for i,x in enumerate(recId):\n",
    "    psgFile=x+\"-PSG.edf\"\n",
    "    hypnogramFile=glob.glob((psgFile[0:7]+'?-Hypnogram.edf'))\n",
    "    psg = pyedflib.EdfReader(psgFile)\n",
    "    hypnogram = pyedflib.EdfReader(hypnogramFile[0])\n",
    "    Duration=hypnogram.readAnnotations()[1][:-1]\n",
    "    if sum(Duration)*100!=len(psg.readSignal(0)):\n",
    "        continue\n",
    "    skipEND=(recstop[i]-lightson[i]).total_seconds()\n",
    "    skipSTART=(lightsoff[i]-recstart[i]).total_seconds()\n",
    "    if skipEND<0:\n",
    "        noLights=psg.readSignal(0)[int(skipSTART*100):]\n",
    "    else:\n",
    "        noLights=psg.readSignal(0)[int(skipSTART*100):int(skipEND*-100)]\n",
    "    Epoch=np.split(noLights,len(noLights)/3000)\n",
    "    Label=[]\n",
    "    for j in range(len(Epoch)):\n",
    "        for g,x in enumerate(hypnogram.readAnnotations()[0]):\n",
    "            if skipSTART+(j*30)<x:\n",
    "                Label.append(hypnogram.readAnnotations()[2][g-1])\n",
    "                break\n",
    "    Epochs.extend(Epoch)\n",
    "    Labels.extend(Label)\n",
    "    psg._close()\n",
    "    hypnogram._close()"
   ]
  },
  {
   "cell_type": "code",
   "execution_count": 8,
   "metadata": {},
   "outputs": [
    {
     "data": {
      "text/plain": [
       "(147923, 3000)"
      ]
     },
     "execution_count": 8,
     "metadata": {},
     "output_type": "execute_result"
    }
   ],
   "source": [
    "np.shape(Epochs)"
   ]
  },
  {
   "cell_type": "code",
   "execution_count": 9,
   "metadata": {},
   "outputs": [
    {
     "data": {
      "text/plain": [
       "(147923,)"
      ]
     },
     "execution_count": 9,
     "metadata": {},
     "output_type": "execute_result"
    }
   ],
   "source": [
    "np.shape(Labels)"
   ]
  },
  {
   "cell_type": "code",
   "execution_count": 10,
   "metadata": {},
   "outputs": [],
   "source": [
    "delete=[]\n",
    "for x in range(len(Epochs)):\n",
    "    Labels[x]=Labels[x][-1]\n",
    "    if Labels[x]=='?' or Labels[x]=='e':\n",
    "        delete.append(x)\n",
    "    else:\n",
    "        if Labels[x]=='W':\n",
    "            Labels[x]=0\n",
    "        else:\n",
    "            if Labels[x]=='4':\n",
    "                Labels[x]=3\n",
    "            else:\n",
    "                if Labels[x]=='R':\n",
    "                    Labels[x]=4\n",
    "                else:\n",
    "                    Labels[x]=int(Labels[x])"
   ]
  },
  {
   "cell_type": "code",
   "execution_count": null,
   "metadata": {},
   "outputs": [],
   "source": []
  },
  {
   "cell_type": "code",
   "execution_count": 11,
   "metadata": {},
   "outputs": [
    {
     "data": {
      "text/plain": [
       "(147923,)"
      ]
     },
     "execution_count": 11,
     "metadata": {},
     "output_type": "execute_result"
    }
   ],
   "source": [
    "np.shape(Labels)"
   ]
  },
  {
   "cell_type": "code",
   "execution_count": 12,
   "metadata": {},
   "outputs": [
    {
     "data": {
      "text/plain": [
       "(147923, 3000)"
      ]
     },
     "execution_count": 12,
     "metadata": {},
     "output_type": "execute_result"
    }
   ],
   "source": [
    "np.shape(Epochs)"
   ]
  },
  {
   "cell_type": "code",
   "execution_count": 13,
   "metadata": {},
   "outputs": [],
   "source": [
    "Epochs=np.delete(Epochs,delete,0)\n"
   ]
  },
  {
   "cell_type": "code",
   "execution_count": 14,
   "metadata": {},
   "outputs": [],
   "source": [
    "Labels=np.delete(Labels,delete,0)"
   ]
  },
  {
   "cell_type": "code",
   "execution_count": 15,
   "metadata": {},
   "outputs": [
    {
     "data": {
      "text/plain": [
       "(147632,)"
      ]
     },
     "execution_count": 15,
     "metadata": {},
     "output_type": "execute_result"
    }
   ],
   "source": [
    "\n",
    "np.shape(Labels)"
   ]
  },
  {
   "cell_type": "code",
   "execution_count": 16,
   "metadata": {},
   "outputs": [
    {
     "data": {
      "text/plain": [
       "(147632, 3000)"
      ]
     },
     "execution_count": 16,
     "metadata": {},
     "output_type": "execute_result"
    }
   ],
   "source": [
    "np.shape(Epochs)"
   ]
  },
  {
   "cell_type": "code",
   "execution_count": 17,
   "metadata": {},
   "outputs": [
    {
     "data": {
      "text/plain": [
       "array(['0', '1', '2', '3', '4'], dtype='<U11')"
      ]
     },
     "execution_count": 17,
     "metadata": {},
     "output_type": "execute_result"
    }
   ],
   "source": [
    "np.unique(Labels)"
   ]
  },
  {
   "cell_type": "code",
   "execution_count": 18,
   "metadata": {},
   "outputs": [],
   "source": [
    "import torch"
   ]
  },
  {
   "cell_type": "code",
   "execution_count": 19,
   "metadata": {},
   "outputs": [],
   "source": [
    "Labels=Labels.astype(int)\n",
    "Labels=torch.from_numpy(Labels)\n",
    "Epochs=torch.from_numpy(Epochs)"
   ]
  },
  {
   "cell_type": "code",
   "execution_count": 20,
   "metadata": {},
   "outputs": [],
   "source": [
    "Epochs=Epochs.unsqueeze(1)"
   ]
  },
  {
   "cell_type": "code",
   "execution_count": 21,
   "metadata": {},
   "outputs": [
    {
     "data": {
      "text/plain": [
       "torch.Size([147632, 1, 3000])"
      ]
     },
     "execution_count": 21,
     "metadata": {},
     "output_type": "execute_result"
    }
   ],
   "source": [
    "Epochs.shape"
   ]
  },
  {
   "cell_type": "code",
   "execution_count": 33,
   "metadata": {},
   "outputs": [],
   "source": [
    "Epochs=Epochs.float()"
   ]
  },
  {
   "cell_type": "code",
   "execution_count": 72,
   "metadata": {},
   "outputs": [],
   "source": [
    "torch.save(Epochs, 'Epochs.pt') "
   ]
  },
  {
   "cell_type": "code",
   "execution_count": 73,
   "metadata": {},
   "outputs": [],
   "source": [
    "torch.save(Labels, 'Labels.pt') "
   ]
  },
  {
   "cell_type": "code",
   "execution_count": null,
   "metadata": {},
   "outputs": [],
   "source": []
  }
 ],
 "metadata": {
  "kernelspec": {
   "display_name": "Python 3",
   "language": "python",
   "name": "python3"
  },
  "language_info": {
   "codemirror_mode": {
    "name": "ipython",
    "version": 3
   },
   "file_extension": ".py",
   "mimetype": "text/x-python",
   "name": "python",
   "nbconvert_exporter": "python",
   "pygments_lexer": "ipython3",
   "version": "3.7.6"
  }
 },
 "nbformat": 4,
 "nbformat_minor": 4
}
